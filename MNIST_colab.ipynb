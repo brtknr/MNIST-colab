{
  "nbformat": 4,
  "nbformat_minor": 0,
  "metadata": {
    "colab": {
      "name": "MNIST-colab.ipynb",
      "version": "0.3.2",
      "views": {},
      "default_view": {},
      "provenance": [],
      "collapsed_sections": []
    },
    "kernelspec": {
      "display_name": "Python 3",
      "language": "python",
      "name": "python3"
    },
    "accelerator": "GPU"
  },
  "cells": [
    {
      "metadata": {
        "id": "Dv6_NxuqwBu2",
        "colab_type": "code",
        "colab": {
          "autoexec": {
            "startup": false,
            "wait_interval": 0
          },
          "base_uri": "https://localhost:8080/",
          "height": 34
        },
        "outputId": "b8afed08-0c21-4fc7-d3aa-d090f5ae4738",
        "executionInfo": {
          "status": "ok",
          "timestamp": 1525717345841,
          "user_tz": -60,
          "elapsed": 538,
          "user": {
            "displayName": "Bharat Kunwar",
            "photoUrl": "//lh5.googleusercontent.com/-Ij4VzBhW1Z4/AAAAAAAAAAI/AAAAAAAAFog/f_LjjvKv3PA/s50-c-k-no/photo.jpg",
            "userId": "103817681178261834989"
          }
        }
      },
      "cell_type": "code",
      "source": [
        "%pylab inline"
      ],
      "execution_count": 10,
      "outputs": [
        {
          "output_type": "stream",
          "text": [
            "Populating the interactive namespace from numpy and matplotlib\n"
          ],
          "name": "stdout"
        }
      ]
    },
    {
      "metadata": {
        "id": "pnM5kQ8wwOah",
        "colab_type": "code",
        "colab": {
          "autoexec": {
            "startup": false,
            "wait_interval": 0
          },
          "base_uri": "https://localhost:8080/",
          "height": 54
        },
        "outputId": "29f8cd73-0ed8-4907-9ba6-17844157fb1f",
        "executionInfo": {
          "status": "ok",
          "timestamp": 1525717233986,
          "user_tz": -60,
          "elapsed": 35449,
          "user": {
            "displayName": "Bharat Kunwar",
            "photoUrl": "//lh5.googleusercontent.com/-Ij4VzBhW1Z4/AAAAAAAAAAI/AAAAAAAAFog/f_LjjvKv3PA/s50-c-k-no/photo.jpg",
            "userId": "103817681178261834989"
          }
        }
      },
      "cell_type": "code",
      "source": [
        "# http://pytorch.org/\n",
        "!pip install -q torch torchvision"
      ],
      "execution_count": 1,
      "outputs": [
        {
          "output_type": "stream",
          "text": [
            "tcmalloc: large alloc 1073750016 bytes == 0x5b43c000 @  0x7f23e5e491c4 0x46d6a4 0x5fcbcc 0x4c494d 0x54f3c4 0x553aaf 0x54e4c8 0x54f4f6 0x553aaf 0x54efc1 0x54f24d 0x553aaf 0x54efc1 0x54f24d 0x553aaf 0x54efc1 0x54f24d 0x551ee0 0x54e4c8 0x54f4f6 0x553aaf 0x54efc1 0x54f24d 0x551ee0 0x54efc1 0x54f24d 0x551ee0 0x54e4c8 0x54f4f6 0x553aaf 0x54e4c8\r\n"
          ],
          "name": "stdout"
        }
      ]
    },
    {
      "metadata": {
        "id": "-rfD_1YbwBu_",
        "colab_type": "code",
        "colab": {
          "autoexec": {
            "startup": false,
            "wait_interval": 0
          },
          "base_uri": "https://localhost:8080/",
          "height": 34
        },
        "outputId": "a2ba0840-6e11-4cda-fb90-cdb96d1bdafd",
        "executionInfo": {
          "status": "ok",
          "timestamp": 1525717285138,
          "user_tz": -60,
          "elapsed": 7045,
          "user": {
            "displayName": "Bharat Kunwar",
            "photoUrl": "//lh5.googleusercontent.com/-Ij4VzBhW1Z4/AAAAAAAAAAI/AAAAAAAAFog/f_LjjvKv3PA/s50-c-k-no/photo.jpg",
            "userId": "103817681178261834989"
          }
        }
      },
      "cell_type": "code",
      "source": [
        "import numpy as np\n",
        "import pandas as pd\n",
        "import torch\n",
        "import torch.nn as nn\n",
        "import torchvision.datasets as dsets\n",
        "import torchvision.transforms as transforms\n",
        "from torch.autograd import Variable\n",
        "\n",
        "# Hyper-parameters\n",
        "batch_size = 100\n",
        "\n",
        "# Is cuda enabled?\n",
        "cuda_enabled = torch.cuda.is_available()\n",
        "print(f'CUDA enabled: {cuda_enabled}')"
      ],
      "execution_count": 2,
      "outputs": [
        {
          "output_type": "stream",
          "text": [
            "CUDA enabled: True\n"
          ],
          "name": "stdout"
        }
      ]
    },
    {
      "metadata": {
        "id": "jDv_8CTvyyG4",
        "colab_type": "code",
        "colab": {
          "autoexec": {
            "startup": false,
            "wait_interval": 0
          },
          "base_uri": "https://localhost:8080/",
          "height": 153
        },
        "outputId": "30c57887-61b5-4c3b-f3d0-656aaddb8684",
        "executionInfo": {
          "status": "ok",
          "timestamp": 1525717291162,
          "user_tz": -60,
          "elapsed": 5989,
          "user": {
            "displayName": "Bharat Kunwar",
            "photoUrl": "//lh5.googleusercontent.com/-Ij4VzBhW1Z4/AAAAAAAAAAI/AAAAAAAAFog/f_LjjvKv3PA/s50-c-k-no/photo.jpg",
            "userId": "103817681178261834989"
          }
        }
      },
      "cell_type": "code",
      "source": [
        "!curl -L https://www.dropbox.com/s/bp3nlci2h3y51f8/mnist.zip?dl=1 > mnist.zip && unzip -d data mnist.zip"
      ],
      "execution_count": 3,
      "outputs": [
        {
          "output_type": "stream",
          "text": [
            "  % Total    % Received % Xferd  Average Speed   Time    Time     Time  Current\r\n",
            "                                 Dload  Upload   Total   Spent    Left  Speed\n",
            "  0     0    0     0    0     0      0      0 --:--:-- --:--:-- --:--:--     0\n",
            "100 14.8M  100 14.8M    0     0  7609k      0  0:00:02  0:00:02 --:--:-- 15.1M\n",
            "Archive:  mnist.zip\n",
            "  inflating: data/test.csv           \n",
            "  inflating: data/train.csv          \n",
            "  inflating: data/sample_submission.csv  \n"
          ],
          "name": "stdout"
        }
      ]
    },
    {
      "metadata": {
        "id": "0x3U78B6wBvD",
        "colab_type": "text"
      },
      "cell_type": "markdown",
      "source": [
        "# Load data"
      ]
    },
    {
      "metadata": {
        "id": "iHt0P0AtwBvE",
        "colab_type": "code",
        "colab": {
          "autoexec": {
            "startup": false,
            "wait_interval": 0
          }
        }
      },
      "cell_type": "code",
      "source": [
        "class Dataset(torch.utils.data.Dataset):\n",
        "    def __init__(self, train=True):\n",
        "        self.train = train\n",
        "        if self.train :\n",
        "            dataset = pd.read_csv('./data/train.csv')\n",
        "            self.Y = dataset.label.as_matrix().tolist()\n",
        "            self.X = dataset.drop('label',axis=1).as_matrix().reshape(dataset.shape[0], 1, 28, 28)\n",
        "        else:\n",
        "            dataset = pd.read_csv('./data/test.csv')\n",
        "            self.X = dataset.as_matrix().reshape(dataset.shape[0], 1, 28, 28)            \n",
        "            \n",
        "    def __getitem__(self, index):\n",
        "        if self.train:\n",
        "            return torch.Tensor(self.X[index].astype(float)),self.Y[index]\n",
        "        else:\n",
        "            return torch.Tensor(self.X[index].astype(float))\n",
        "    \n",
        "    def __len__(self):\n",
        "        return self.X.shape[0]\n",
        "    \n",
        "    def inspect(self, idx=0):\n",
        "        image = self.X[idx]\n",
        "        plt.imshow(image.reshape(-1, self.X.shape[-1]))\n",
        "        if self.train:\n",
        "            plt.title(self.Y[idx])"
      ],
      "execution_count": 0,
      "outputs": []
    },
    {
      "metadata": {
        "id": "FAdTMDLMwBvG",
        "colab_type": "code",
        "colab": {
          "autoexec": {
            "startup": false,
            "wait_interval": 0
          }
        }
      },
      "cell_type": "code",
      "source": [
        "train_loader = torch.utils.data.DataLoader(dataset=Dataset(),\n",
        "                                           batch_size=batch_size,\n",
        "                                           shuffle=True,\n",
        "                                           num_workers=2)\n",
        "test_loader = torch.utils.data.DataLoader(dataset=Dataset(train=False),\n",
        "                                          batch_size=batch_size,\n",
        "                                          shuffle=False)"
      ],
      "execution_count": 0,
      "outputs": []
    },
    {
      "metadata": {
        "id": "x15veAslwBvJ",
        "colab_type": "text"
      },
      "cell_type": "markdown",
      "source": [
        "# Inspect our dataset"
      ]
    },
    {
      "metadata": {
        "id": "xnRj3LcSwBvJ",
        "colab_type": "code",
        "colab": {
          "autoexec": {
            "startup": false,
            "wait_interval": 0
          },
          "base_uri": "https://localhost:8080/",
          "height": 34
        },
        "outputId": "215cbeb0-6f36-4a13-8068-8e170e3730ee",
        "executionInfo": {
          "status": "ok",
          "timestamp": 1525717329890,
          "user_tz": -60,
          "elapsed": 507,
          "user": {
            "displayName": "Bharat Kunwar",
            "photoUrl": "//lh5.googleusercontent.com/-Ij4VzBhW1Z4/AAAAAAAAAAI/AAAAAAAAFog/f_LjjvKv3PA/s50-c-k-no/photo.jpg",
            "userId": "103817681178261834989"
          }
        }
      },
      "cell_type": "code",
      "source": [
        "train_loader.dataset.X.shape, len(train_loader.dataset.Y)"
      ],
      "execution_count": 7,
      "outputs": [
        {
          "output_type": "execute_result",
          "data": {
            "text/plain": [
              "((42000, 1, 28, 28), 42000)"
            ]
          },
          "metadata": {
            "tags": []
          },
          "execution_count": 7
        }
      ]
    },
    {
      "metadata": {
        "id": "na0ZgGs5wBvN",
        "colab_type": "code",
        "colab": {
          "autoexec": {
            "startup": false,
            "wait_interval": 0
          },
          "base_uri": "https://localhost:8080/",
          "height": 34
        },
        "outputId": "f8bf76f4-4847-4ce3-fc31-37735aff9750",
        "executionInfo": {
          "status": "ok",
          "timestamp": 1525717339125,
          "user_tz": -60,
          "elapsed": 494,
          "user": {
            "displayName": "Bharat Kunwar",
            "photoUrl": "//lh5.googleusercontent.com/-Ij4VzBhW1Z4/AAAAAAAAAAI/AAAAAAAAFog/f_LjjvKv3PA/s50-c-k-no/photo.jpg",
            "userId": "103817681178261834989"
          }
        }
      },
      "cell_type": "code",
      "source": [
        "test_loader.dataset.X.shape, len(train_loader.dataset.Y)"
      ],
      "execution_count": 8,
      "outputs": [
        {
          "output_type": "execute_result",
          "data": {
            "text/plain": [
              "((28000, 1, 28, 28), 42000)"
            ]
          },
          "metadata": {
            "tags": []
          },
          "execution_count": 8
        }
      ]
    },
    {
      "metadata": {
        "id": "EafviZ2nwBvQ",
        "colab_type": "code",
        "colab": {
          "autoexec": {
            "startup": false,
            "wait_interval": 0
          },
          "base_uri": "https://localhost:8080/",
          "height": 481
        },
        "outputId": "b755ebe2-5217-4962-fad1-18ec7391967e",
        "executionInfo": {
          "status": "ok",
          "timestamp": 1525717350805,
          "user_tz": -60,
          "elapsed": 1422,
          "user": {
            "displayName": "Bharat Kunwar",
            "photoUrl": "//lh5.googleusercontent.com/-Ij4VzBhW1Z4/AAAAAAAAAAI/AAAAAAAAFog/f_LjjvKv3PA/s50-c-k-no/photo.jpg",
            "userId": "103817681178261834989"
          }
        }
      },
      "cell_type": "code",
      "source": [
        "plt.figure(figsize=(8,8))\n",
        "for i in range(16):\n",
        "    ax = plt.subplot(4,4,1+i)\n",
        "    train_loader.dataset.inspect(i)\n",
        "    ax.axes.get_xaxis().set_visible(False)\n",
        "    ax.axes.get_yaxis().set_visible(False)\n",
        "\n",
        "plt.show()"
      ],
      "execution_count": 11,
      "outputs": [
        {
          "output_type": "display_data",
          "data": {
            "image/png": "[encoded data removed]",
            "text/plain": [
              "<matplotlib.figure.Figure at 0x7fc0d278f748>"
            ]
          },
          "metadata": {
            "tags": []
          }
        }
      ]
    },
    {
      "metadata": {
        "id": "sPpgFqBKwBvT",
        "colab_type": "text"
      },
      "cell_type": "markdown",
      "source": [
        "# CNN"
      ]
    },
    {
      "metadata": {
        "id": "zxwT0G9QwBvU",
        "colab_type": "code",
        "colab": {
          "autoexec": {
            "startup": false,
            "wait_interval": 0
          }
        }
      },
      "cell_type": "code",
      "source": [
        "class CNN(nn.Module):\n",
        "    def __init__(self):\n",
        "        super(CNN, self).__init__()\n",
        "        self.layer1 = nn.Sequential(\n",
        "            nn.Conv2d(1 ,16, kernel_size=5,padding=2),\n",
        "            nn.BatchNorm2d(16),\n",
        "            nn.ReLU(),\n",
        "            nn.MaxPool2d(2))\n",
        "        self.layer2 = nn.Sequential(\n",
        "            nn.Conv2d(16, 32, kernel_size=5,padding=2),\n",
        "            nn.BatchNorm2d(32),\n",
        "            nn.ReLU(),\n",
        "            nn.MaxPool2d(2))\n",
        "        self.fc = nn.Linear(7*7*32, 10)\n",
        "        \n",
        "    def forward(self, x):\n",
        "        out = self.layer1(x)\n",
        "        out = self.layer2(out)\n",
        "        out = out.view(out.size(0), -1)\n",
        "        out = self.fc(out)\n",
        "        return out\n",
        "\n",
        "def accuracy (outputs, labels): \n",
        "    return sum(outputs.detach().numpy().argmax(axis=1)\n",
        "               ==labels.numpy())/len(labels)      "
      ],
      "execution_count": 0,
      "outputs": []
    },
    {
      "metadata": {
        "id": "yBEtekexwBvX",
        "colab_type": "text"
      },
      "cell_type": "markdown",
      "source": [
        "# Run the model"
      ]
    },
    {
      "metadata": {
        "id": "FYds6sQuwBvX",
        "colab_type": "code",
        "colab": {
          "autoexec": {
            "startup": false,
            "wait_interval": 0
          }
        }
      },
      "cell_type": "code",
      "source": [
        "cnn = CNN()\n",
        "if cuda_enabled:\n",
        "    cnn.cuda()"
      ],
      "execution_count": 0,
      "outputs": []
    },
    {
      "metadata": {
        "id": "0oJTp32ZwBva",
        "colab_type": "code",
        "colab": {
          "autoexec": {
            "startup": false,
            "wait_interval": 0
          }
        }
      },
      "cell_type": "code",
      "source": [
        "learning_rate = 0.0001\n",
        "optimizer = torch.optim.Adam(cnn.parameters(),lr=learning_rate)\n",
        "criterion = nn.CrossEntropyLoss()"
      ],
      "execution_count": 0,
      "outputs": []
    },
    {
      "metadata": {
        "id": "K-Z5JJadwBvb",
        "colab_type": "code",
        "colab": {
          "autoexec": {
            "startup": false,
            "wait_interval": 0
          },
          "base_uri": "https://localhost:8080/",
          "height": 187
        },
        "outputId": "934ae246-6bfa-4454-8b23-2e267b139132",
        "executionInfo": {
          "status": "ok",
          "timestamp": 1525720809755,
          "user_tz": -60,
          "elapsed": 44475,
          "user": {
            "displayName": "Bharat Kunwar",
            "photoUrl": "//lh5.googleusercontent.com/-Ij4VzBhW1Z4/AAAAAAAAAAI/AAAAAAAAFog/f_LjjvKv3PA/s50-c-k-no/photo.jpg",
            "userId": "103817681178261834989"
          }
        }
      },
      "cell_type": "code",
      "source": [
        "%timeit\n",
        "num_epochs = 10\n",
        "for epoch in range(num_epochs):\n",
        "    num_iters = len(train_loader.dataset)//batch_size\n",
        "    sum_loss = 0\n",
        "    sum_accu = 0\n",
        "    for i, (images, labels) in enumerate(train_loader):\n",
        "        if cuda_enabled:\n",
        "            images = Variable(images).cuda()\n",
        "            labels = Variable(labels).cuda()\n",
        "        else:\n",
        "            images = Variable(images)\n",
        "            labels = Variable(labels)            \n",
        "        \n",
        "        #Forward + Backward + Optimize\n",
        "        optimizer.zero_grad()\n",
        "        outputs = cnn(images)\n",
        "        loss = criterion(outputs,labels)\n",
        "        loss.backward()\n",
        "        optimizer.step()\n",
        "        sum_loss += loss.item()\n",
        "        sum_accu += accuracy(outputs.cpu(), labels.cpu())\n",
        "\n",
        "    print (f'Ep [{epoch+1}/{num_epochs}] '\\\n",
        "        f'Tl: {sum_loss/num_iters:.12f} '\\\n",
        "        f'Ac: {sum_accu/num_iters}', end='\\n')"
      ],
      "execution_count": 90,
      "outputs": [
        {
          "output_type": "stream",
          "text": [
            "Ep [1/10] Tl: 0.000000000670 Ac: 1.0\n",
            "Ep [2/10] Tl: 0.000000000653 Ac: 1.0\n",
            "Ep [3/10] Tl: 0.000000000582 Ac: 1.0\n",
            "Ep [4/10] Tl: 0.000000000525 Ac: 1.0\n",
            "Ep [5/10] Tl: 0.000000000522 Ac: 1.0\n",
            "Ep [6/10] Tl: 0.000000000315 Ac: 1.0\n",
            "Ep [7/10] Tl: 0.000000000358 Ac: 1.0\n",
            "Ep [8/10] Tl: 0.000000000397 Ac: 1.0\n",
            "Ep [9/10] Tl: 0.000000000258 Ac: 1.0\n",
            "Ep [10/10] Tl: 0.000000000219 Ac: 1.0\n"
          ],
          "name": "stdout"
        }
      ]
    },
    {
      "metadata": {
        "id": "hFXMDpWnwBve",
        "colab_type": "code",
        "colab": {
          "autoexec": {
            "startup": false,
            "wait_interval": 0
          },
          "base_uri": "https://localhost:8080/",
          "height": 272
        },
        "outputId": "adbbdb4f-0623-4728-8751-bbc5bb6d1996",
        "executionInfo": {
          "status": "ok",
          "timestamp": 1525720814281,
          "user_tz": -60,
          "elapsed": 545,
          "user": {
            "displayName": "Bharat Kunwar",
            "photoUrl": "//lh5.googleusercontent.com/-Ij4VzBhW1Z4/AAAAAAAAAAI/AAAAAAAAFog/f_LjjvKv3PA/s50-c-k-no/photo.jpg",
            "userId": "103817681178261834989"
          }
        }
      },
      "cell_type": "code",
      "source": [
        " cnn.eval()"
      ],
      "execution_count": 91,
      "outputs": [
        {
          "output_type": "execute_result",
          "data": {
            "text/plain": [
              "CNN(\n",
              "  (layer1): Sequential(\n",
              "    (0): Conv2d(1, 16, kernel_size=(5, 5), stride=(1, 1), padding=(2, 2))\n",
              "    (1): BatchNorm2d(16, eps=1e-05, momentum=0.1, affine=True, track_running_stats=True)\n",
              "    (2): ReLU()\n",
              "    (3): MaxPool2d(kernel_size=2, stride=2, padding=0, dilation=1, ceil_mode=False)\n",
              "  )\n",
              "  (layer2): Sequential(\n",
              "    (0): Conv2d(16, 32, kernel_size=(5, 5), stride=(1, 1), padding=(2, 2))\n",
              "    (1): BatchNorm2d(32, eps=1e-05, momentum=0.1, affine=True, track_running_stats=True)\n",
              "    (2): ReLU()\n",
              "    (3): MaxPool2d(kernel_size=2, stride=2, padding=0, dilation=1, ceil_mode=False)\n",
              "  )\n",
              "  (fc): Linear(in_features=1568, out_features=10, bias=True)\n",
              ")"
            ]
          },
          "metadata": {
            "tags": []
          },
          "execution_count": 91
        }
      ]
    },
    {
      "metadata": {
        "id": "AIq5YHLSwBvg",
        "colab_type": "code",
        "colab": {
          "autoexec": {
            "startup": false,
            "wait_interval": 0
          }
        }
      },
      "cell_type": "code",
      "source": [
        "ans = torch.cuda.LongTensor() if cuda_enabled else torch.LongTensor()  \n",
        "for images in test_loader:\n",
        "    images = Variable(images).cuda() if cuda_enabled else Variable(images)\n",
        "    outputs = cnn(images)\n",
        "    _,predicted = torch.max(outputs.data, 1)\n",
        "    ans = torch.cat((ans,predicted),0)"
      ],
      "execution_count": 0,
      "outputs": []
    },
    {
      "metadata": {
        "id": "CNegvj-BwBvk",
        "colab_type": "code",
        "colab": {
          "autoexec": {
            "startup": false,
            "wait_interval": 0
          },
          "base_uri": "https://localhost:8080/",
          "height": 204
        },
        "outputId": "fb0b7aa5-f25a-4713-b759-0634d5ec6c4c",
        "executionInfo": {
          "status": "ok",
          "timestamp": 1525720817705,
          "user_tz": -60,
          "elapsed": 512,
          "user": {
            "displayName": "Bharat Kunwar",
            "photoUrl": "//lh5.googleusercontent.com/-Ij4VzBhW1Z4/AAAAAAAAAAI/AAAAAAAAFog/f_LjjvKv3PA/s50-c-k-no/photo.jpg",
            "userId": "103817681178261834989"
          }
        }
      },
      "cell_type": "code",
      "source": [
        "aa = pd.DataFrame(ans.cpu().numpy())\n",
        "aa.columns = ['Label']\n",
        "Id = range(1,aa.size+1)\n",
        "aa.insert(0, 'ImageId', Id)\n",
        "aa.head()"
      ],
      "execution_count": 93,
      "outputs": [
        {
          "output_type": "execute_result",
          "data": {
            "text/html": [
              "<div>\n",
              "<style scoped>\n",
              "    .dataframe tbody tr th:only-of-type {\n",
              "        vertical-align: middle;\n",
              "    }\n",
              "\n",
              "    .dataframe tbody tr th {\n",
              "        vertical-align: top;\n",
              "    }\n",
              "\n",
              "    .dataframe thead th {\n",
              "        text-align: right;\n",
              "    }\n",
              "</style>\n",
              "<table border=\"1\" class=\"dataframe\">\n",
              "  <thead>\n",
              "    <tr style=\"text-align: right;\">\n",
              "      <th></th>\n",
              "      <th>ImageId</th>\n",
              "      <th>Label</th>\n",
              "    </tr>\n",
              "  </thead>\n",
              "  <tbody>\n",
              "    <tr>\n",
              "      <th>0</th>\n",
              "      <td>1</td>\n",
              "      <td>2</td>\n",
              "    </tr>\n",
              "    <tr>\n",
              "      <th>1</th>\n",
              "      <td>2</td>\n",
              "      <td>0</td>\n",
              "    </tr>\n",
              "    <tr>\n",
              "      <th>2</th>\n",
              "      <td>3</td>\n",
              "      <td>9</td>\n",
              "    </tr>\n",
              "    <tr>\n",
              "      <th>3</th>\n",
              "      <td>4</td>\n",
              "      <td>0</td>\n",
              "    </tr>\n",
              "    <tr>\n",
              "      <th>4</th>\n",
              "      <td>5</td>\n",
              "      <td>3</td>\n",
              "    </tr>\n",
              "  </tbody>\n",
              "</table>\n",
              "</div>"
            ],
            "text/plain": [
              "   ImageId  Label\n",
              "0        1      2\n",
              "1        2      0\n",
              "2        3      9\n",
              "3        4      0\n",
              "4        5      3"
            ]
          },
          "metadata": {
            "tags": []
          },
          "execution_count": 93
        }
      ]
    },
    {
      "metadata": {
        "id": "brizBhzSwBvm",
        "colab_type": "code",
        "colab": {
          "autoexec": {
            "startup": false,
            "wait_interval": 0
          }
        }
      },
      "cell_type": "code",
      "source": [
        "filename = 'submit_pytorch.csv' \n",
        "aa.to_csv(filename,index = False)\n",
        "from google.colab import files\n",
        "files.download(filename)"
      ],
      "execution_count": 0,
      "outputs": []
    },
    {
      "metadata": {
        "id": "LYFYUpmdwBvn",
        "colab_type": "code",
        "colab": {
          "autoexec": {
            "startup": false,
            "wait_interval": 0
          }
        }
      },
      "cell_type": "code",
      "source": [
        ""
      ],
      "execution_count": 0,
      "outputs": []
    },
    {
      "metadata": {
        "id": "at3q9___ywmE",
        "colab_type": "code",
        "colab": {
          "autoexec": {
            "startup": false,
            "wait_interval": 0
          }
        }
      },
      "cell_type": "code",
      "source": [
        ""
      ],
      "execution_count": 0,
      "outputs": []
    }
  ]
}